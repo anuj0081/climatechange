{
 "cells": [
  {
   "cell_type": "code",
   "execution_count": 1,
   "metadata": {},
   "outputs": [],
   "source": [
    "import pandas as pd\n",
    "from datetime import datetime,timedelta\n",
    "import matplotlib.pyplot as plt\n",
    "import numpy as np\n",
    "from statsmodels.tsa.seasonal import seasonal_decompose\n",
    "import seaborn as sns\n",
    "\n",
    "%matplotlib inline\n",
    "\n",
    "\n",
    "import warnings\n",
    "warnings.filterwarnings('ignore')"
   ]
  },
  {
   "cell_type": "code",
   "execution_count": 3,
   "metadata": {},
   "outputs": [
    {
     "data": {
      "text/html": [
       "<div>\n",
       "<style scoped>\n",
       "    .dataframe tbody tr th:only-of-type {\n",
       "        vertical-align: middle;\n",
       "    }\n",
       "\n",
       "    .dataframe tbody tr th {\n",
       "        vertical-align: top;\n",
       "    }\n",
       "\n",
       "    .dataframe thead th {\n",
       "        text-align: right;\n",
       "    }\n",
       "</style>\n",
       "<table border=\"1\" class=\"dataframe\">\n",
       "  <thead>\n",
       "    <tr style=\"text-align: right;\">\n",
       "      <th></th>\n",
       "      <th>dt</th>\n",
       "      <th>AverageTemperature</th>\n",
       "      <th>AverageTemperatureUncertainty</th>\n",
       "      <th>State</th>\n",
       "      <th>Country</th>\n",
       "    </tr>\n",
       "  </thead>\n",
       "  <tbody>\n",
       "    <tr>\n",
       "      <th>0</th>\n",
       "      <td>1855-05-01</td>\n",
       "      <td>25.544</td>\n",
       "      <td>1.171</td>\n",
       "      <td>Acre</td>\n",
       "      <td>Brazil</td>\n",
       "    </tr>\n",
       "    <tr>\n",
       "      <th>1</th>\n",
       "      <td>1855-06-01</td>\n",
       "      <td>24.228</td>\n",
       "      <td>1.103</td>\n",
       "      <td>Acre</td>\n",
       "      <td>Brazil</td>\n",
       "    </tr>\n",
       "    <tr>\n",
       "      <th>2</th>\n",
       "      <td>1855-07-01</td>\n",
       "      <td>24.371</td>\n",
       "      <td>1.044</td>\n",
       "      <td>Acre</td>\n",
       "      <td>Brazil</td>\n",
       "    </tr>\n",
       "    <tr>\n",
       "      <th>3</th>\n",
       "      <td>1855-08-01</td>\n",
       "      <td>25.427</td>\n",
       "      <td>1.073</td>\n",
       "      <td>Acre</td>\n",
       "      <td>Brazil</td>\n",
       "    </tr>\n",
       "    <tr>\n",
       "      <th>4</th>\n",
       "      <td>1855-09-01</td>\n",
       "      <td>25.675</td>\n",
       "      <td>1.014</td>\n",
       "      <td>Acre</td>\n",
       "      <td>Brazil</td>\n",
       "    </tr>\n",
       "    <tr>\n",
       "      <th>5</th>\n",
       "      <td>1855-10-01</td>\n",
       "      <td>25.442</td>\n",
       "      <td>1.179</td>\n",
       "      <td>Acre</td>\n",
       "      <td>Brazil</td>\n",
       "    </tr>\n",
       "    <tr>\n",
       "      <th>6</th>\n",
       "      <td>1855-11-01</td>\n",
       "      <td>25.400</td>\n",
       "      <td>1.064</td>\n",
       "      <td>Acre</td>\n",
       "      <td>Brazil</td>\n",
       "    </tr>\n",
       "    <tr>\n",
       "      <th>7</th>\n",
       "      <td>1855-12-01</td>\n",
       "      <td>24.100</td>\n",
       "      <td>1.718</td>\n",
       "      <td>Acre</td>\n",
       "      <td>Brazil</td>\n",
       "    </tr>\n",
       "    <tr>\n",
       "      <th>8</th>\n",
       "      <td>1856-01-01</td>\n",
       "      <td>25.814</td>\n",
       "      <td>1.159</td>\n",
       "      <td>Acre</td>\n",
       "      <td>Brazil</td>\n",
       "    </tr>\n",
       "    <tr>\n",
       "      <th>9</th>\n",
       "      <td>1856-02-01</td>\n",
       "      <td>24.658</td>\n",
       "      <td>1.147</td>\n",
       "      <td>Acre</td>\n",
       "      <td>Brazil</td>\n",
       "    </tr>\n",
       "  </tbody>\n",
       "</table>\n",
       "</div>"
      ],
      "text/plain": [
       "           dt  AverageTemperature  AverageTemperatureUncertainty State Country\n",
       "0  1855-05-01              25.544                          1.171  Acre  Brazil\n",
       "1  1855-06-01              24.228                          1.103  Acre  Brazil\n",
       "2  1855-07-01              24.371                          1.044  Acre  Brazil\n",
       "3  1855-08-01              25.427                          1.073  Acre  Brazil\n",
       "4  1855-09-01              25.675                          1.014  Acre  Brazil\n",
       "5  1855-10-01              25.442                          1.179  Acre  Brazil\n",
       "6  1855-11-01              25.400                          1.064  Acre  Brazil\n",
       "7  1855-12-01              24.100                          1.718  Acre  Brazil\n",
       "8  1856-01-01              25.814                          1.159  Acre  Brazil\n",
       "9  1856-02-01              24.658                          1.147  Acre  Brazil"
      ]
     },
     "execution_count": 3,
     "metadata": {},
     "output_type": "execute_result"
    }
   ],
   "source": [
    "df = pd.read_csv(r'GlobalLandTemperaturesByState.csv')\n",
    "df.head(10)"
   ]
  },
  {
   "cell_type": "code",
   "execution_count": 4,
   "metadata": {},
   "outputs": [
    {
     "data": {
      "text/plain": [
       "dt                                object\n",
       "AverageTemperature               float64\n",
       "AverageTemperatureUncertainty    float64\n",
       "State                             object\n",
       "Country                           object\n",
       "dtype: object"
      ]
     },
     "execution_count": 4,
     "metadata": {},
     "output_type": "execute_result"
    }
   ],
   "source": [
    "df.dtypes\n",
    "\n"
   ]
  },
  {
   "cell_type": "code",
   "execution_count": 5,
   "metadata": {},
   "outputs": [
    {
     "data": {
      "text/plain": [
       "(645675, 5)"
      ]
     },
     "execution_count": 5,
     "metadata": {},
     "output_type": "execute_result"
    }
   ],
   "source": [
    "df.shape"
   ]
  },
  {
   "cell_type": "code",
   "execution_count": 6,
   "metadata": {},
   "outputs": [
    {
     "data": {
      "text/plain": [
       "dt                                   0\n",
       "AverageTemperature               25648\n",
       "AverageTemperatureUncertainty    25648\n",
       "State                                0\n",
       "Country                              0\n",
       "dtype: int64"
      ]
     },
     "execution_count": 6,
     "metadata": {},
     "output_type": "execute_result"
    }
   ],
   "source": [
    "df.isnull().sum()\n"
   ]
  },
  {
   "cell_type": "code",
   "execution_count": 7,
   "metadata": {},
   "outputs": [
    {
     "data": {
      "text/html": [
       "<div>\n",
       "<style scoped>\n",
       "    .dataframe tbody tr th:only-of-type {\n",
       "        vertical-align: middle;\n",
       "    }\n",
       "\n",
       "    .dataframe tbody tr th {\n",
       "        vertical-align: top;\n",
       "    }\n",
       "\n",
       "    .dataframe thead th {\n",
       "        text-align: right;\n",
       "    }\n",
       "</style>\n",
       "<table border=\"1\" class=\"dataframe\">\n",
       "  <thead>\n",
       "    <tr style=\"text-align: right;\">\n",
       "      <th></th>\n",
       "      <th>dt</th>\n",
       "      <th>AverageTemperature</th>\n",
       "      <th>AverageTemperatureUncertainty</th>\n",
       "      <th>State</th>\n",
       "      <th>Country</th>\n",
       "    </tr>\n",
       "  </thead>\n",
       "  <tbody>\n",
       "    <tr>\n",
       "      <th>0</th>\n",
       "      <td>1855-05-01</td>\n",
       "      <td>25.544</td>\n",
       "      <td>1.171</td>\n",
       "      <td>Acre</td>\n",
       "      <td>Brazil</td>\n",
       "    </tr>\n",
       "    <tr>\n",
       "      <th>1</th>\n",
       "      <td>1855-06-01</td>\n",
       "      <td>24.228</td>\n",
       "      <td>1.103</td>\n",
       "      <td>Acre</td>\n",
       "      <td>Brazil</td>\n",
       "    </tr>\n",
       "    <tr>\n",
       "      <th>2</th>\n",
       "      <td>1855-07-01</td>\n",
       "      <td>24.371</td>\n",
       "      <td>1.044</td>\n",
       "      <td>Acre</td>\n",
       "      <td>Brazil</td>\n",
       "    </tr>\n",
       "    <tr>\n",
       "      <th>3</th>\n",
       "      <td>1855-08-01</td>\n",
       "      <td>25.427</td>\n",
       "      <td>1.073</td>\n",
       "      <td>Acre</td>\n",
       "      <td>Brazil</td>\n",
       "    </tr>\n",
       "    <tr>\n",
       "      <th>4</th>\n",
       "      <td>1855-09-01</td>\n",
       "      <td>25.675</td>\n",
       "      <td>1.014</td>\n",
       "      <td>Acre</td>\n",
       "      <td>Brazil</td>\n",
       "    </tr>\n",
       "    <tr>\n",
       "      <th>...</th>\n",
       "      <td>...</td>\n",
       "      <td>...</td>\n",
       "      <td>...</td>\n",
       "      <td>...</td>\n",
       "      <td>...</td>\n",
       "    </tr>\n",
       "    <tr>\n",
       "      <th>645669</th>\n",
       "      <td>2013-04-01</td>\n",
       "      <td>15.710</td>\n",
       "      <td>0.461</td>\n",
       "      <td>Zhejiang</td>\n",
       "      <td>China</td>\n",
       "    </tr>\n",
       "    <tr>\n",
       "      <th>645670</th>\n",
       "      <td>2013-05-01</td>\n",
       "      <td>21.634</td>\n",
       "      <td>0.578</td>\n",
       "      <td>Zhejiang</td>\n",
       "      <td>China</td>\n",
       "    </tr>\n",
       "    <tr>\n",
       "      <th>645671</th>\n",
       "      <td>2013-06-01</td>\n",
       "      <td>24.679</td>\n",
       "      <td>0.596</td>\n",
       "      <td>Zhejiang</td>\n",
       "      <td>China</td>\n",
       "    </tr>\n",
       "    <tr>\n",
       "      <th>645672</th>\n",
       "      <td>2013-07-01</td>\n",
       "      <td>29.272</td>\n",
       "      <td>1.340</td>\n",
       "      <td>Zhejiang</td>\n",
       "      <td>China</td>\n",
       "    </tr>\n",
       "    <tr>\n",
       "      <th>645673</th>\n",
       "      <td>2013-08-01</td>\n",
       "      <td>29.202</td>\n",
       "      <td>0.869</td>\n",
       "      <td>Zhejiang</td>\n",
       "      <td>China</td>\n",
       "    </tr>\n",
       "  </tbody>\n",
       "</table>\n",
       "<p>620027 rows × 5 columns</p>\n",
       "</div>"
      ],
      "text/plain": [
       "                dt  AverageTemperature  AverageTemperatureUncertainty  \\\n",
       "0       1855-05-01              25.544                          1.171   \n",
       "1       1855-06-01              24.228                          1.103   \n",
       "2       1855-07-01              24.371                          1.044   \n",
       "3       1855-08-01              25.427                          1.073   \n",
       "4       1855-09-01              25.675                          1.014   \n",
       "...            ...                 ...                            ...   \n",
       "645669  2013-04-01              15.710                          0.461   \n",
       "645670  2013-05-01              21.634                          0.578   \n",
       "645671  2013-06-01              24.679                          0.596   \n",
       "645672  2013-07-01              29.272                          1.340   \n",
       "645673  2013-08-01              29.202                          0.869   \n",
       "\n",
       "           State Country  \n",
       "0           Acre  Brazil  \n",
       "1           Acre  Brazil  \n",
       "2           Acre  Brazil  \n",
       "3           Acre  Brazil  \n",
       "4           Acre  Brazil  \n",
       "...          ...     ...  \n",
       "645669  Zhejiang   China  \n",
       "645670  Zhejiang   China  \n",
       "645671  Zhejiang   China  \n",
       "645672  Zhejiang   China  \n",
       "645673  Zhejiang   China  \n",
       "\n",
       "[620027 rows x 5 columns]"
      ]
     },
     "execution_count": 7,
     "metadata": {},
     "output_type": "execute_result"
    }
   ],
   "source": [
    "df = df.dropna(how='any', axis=0)\n",
    "df"
   ]
  },
  {
   "cell_type": "code",
   "execution_count": 8,
   "metadata": {},
   "outputs": [
    {
     "data": {
      "text/html": [
       "<div>\n",
       "<style scoped>\n",
       "    .dataframe tbody tr th:only-of-type {\n",
       "        vertical-align: middle;\n",
       "    }\n",
       "\n",
       "    .dataframe tbody tr th {\n",
       "        vertical-align: top;\n",
       "    }\n",
       "\n",
       "    .dataframe thead th {\n",
       "        text-align: right;\n",
       "    }\n",
       "</style>\n",
       "<table border=\"1\" class=\"dataframe\">\n",
       "  <thead>\n",
       "    <tr style=\"text-align: right;\">\n",
       "      <th></th>\n",
       "      <th>Date</th>\n",
       "      <th>avg_temp</th>\n",
       "      <th>confidence_interval_temp</th>\n",
       "      <th>State</th>\n",
       "      <th>Country</th>\n",
       "    </tr>\n",
       "  </thead>\n",
       "  <tbody>\n",
       "    <tr>\n",
       "      <th>0</th>\n",
       "      <td>1855-05-01</td>\n",
       "      <td>25.544</td>\n",
       "      <td>1.171</td>\n",
       "      <td>Acre</td>\n",
       "      <td>Brazil</td>\n",
       "    </tr>\n",
       "    <tr>\n",
       "      <th>1</th>\n",
       "      <td>1855-06-01</td>\n",
       "      <td>24.228</td>\n",
       "      <td>1.103</td>\n",
       "      <td>Acre</td>\n",
       "      <td>Brazil</td>\n",
       "    </tr>\n",
       "    <tr>\n",
       "      <th>2</th>\n",
       "      <td>1855-07-01</td>\n",
       "      <td>24.371</td>\n",
       "      <td>1.044</td>\n",
       "      <td>Acre</td>\n",
       "      <td>Brazil</td>\n",
       "    </tr>\n",
       "    <tr>\n",
       "      <th>3</th>\n",
       "      <td>1855-08-01</td>\n",
       "      <td>25.427</td>\n",
       "      <td>1.073</td>\n",
       "      <td>Acre</td>\n",
       "      <td>Brazil</td>\n",
       "    </tr>\n",
       "    <tr>\n",
       "      <th>4</th>\n",
       "      <td>1855-09-01</td>\n",
       "      <td>25.675</td>\n",
       "      <td>1.014</td>\n",
       "      <td>Acre</td>\n",
       "      <td>Brazil</td>\n",
       "    </tr>\n",
       "    <tr>\n",
       "      <th>...</th>\n",
       "      <td>...</td>\n",
       "      <td>...</td>\n",
       "      <td>...</td>\n",
       "      <td>...</td>\n",
       "      <td>...</td>\n",
       "    </tr>\n",
       "    <tr>\n",
       "      <th>645669</th>\n",
       "      <td>2013-04-01</td>\n",
       "      <td>15.710</td>\n",
       "      <td>0.461</td>\n",
       "      <td>Zhejiang</td>\n",
       "      <td>China</td>\n",
       "    </tr>\n",
       "    <tr>\n",
       "      <th>645670</th>\n",
       "      <td>2013-05-01</td>\n",
       "      <td>21.634</td>\n",
       "      <td>0.578</td>\n",
       "      <td>Zhejiang</td>\n",
       "      <td>China</td>\n",
       "    </tr>\n",
       "    <tr>\n",
       "      <th>645671</th>\n",
       "      <td>2013-06-01</td>\n",
       "      <td>24.679</td>\n",
       "      <td>0.596</td>\n",
       "      <td>Zhejiang</td>\n",
       "      <td>China</td>\n",
       "    </tr>\n",
       "    <tr>\n",
       "      <th>645672</th>\n",
       "      <td>2013-07-01</td>\n",
       "      <td>29.272</td>\n",
       "      <td>1.340</td>\n",
       "      <td>Zhejiang</td>\n",
       "      <td>China</td>\n",
       "    </tr>\n",
       "    <tr>\n",
       "      <th>645673</th>\n",
       "      <td>2013-08-01</td>\n",
       "      <td>29.202</td>\n",
       "      <td>0.869</td>\n",
       "      <td>Zhejiang</td>\n",
       "      <td>China</td>\n",
       "    </tr>\n",
       "  </tbody>\n",
       "</table>\n",
       "<p>620027 rows × 5 columns</p>\n",
       "</div>"
      ],
      "text/plain": [
       "              Date  avg_temp  confidence_interval_temp     State Country\n",
       "0       1855-05-01    25.544                     1.171      Acre  Brazil\n",
       "1       1855-06-01    24.228                     1.103      Acre  Brazil\n",
       "2       1855-07-01    24.371                     1.044      Acre  Brazil\n",
       "3       1855-08-01    25.427                     1.073      Acre  Brazil\n",
       "4       1855-09-01    25.675                     1.014      Acre  Brazil\n",
       "...            ...       ...                       ...       ...     ...\n",
       "645669  2013-04-01    15.710                     0.461  Zhejiang   China\n",
       "645670  2013-05-01    21.634                     0.578  Zhejiang   China\n",
       "645671  2013-06-01    24.679                     0.596  Zhejiang   China\n",
       "645672  2013-07-01    29.272                     1.340  Zhejiang   China\n",
       "645673  2013-08-01    29.202                     0.869  Zhejiang   China\n",
       "\n",
       "[620027 rows x 5 columns]"
      ]
     },
     "execution_count": 8,
     "metadata": {},
     "output_type": "execute_result"
    }
   ],
   "source": [
    "df.rename(columns={'dt': 'Date','AverageTemperature':'avg_temp', 'AverageTemperatureUncertainty':'confidence_interval_temp' }, inplace=True)\n",
    "df"
   ]
  },
  {
   "cell_type": "code",
   "execution_count": 9,
   "metadata": {},
   "outputs": [
    {
     "data": {
      "text/plain": [
       "DatetimeIndex(['1855-05-01', '1855-06-01', '1855-07-01', '1855-08-01',\n",
       "               '1855-09-01', '1855-10-01', '1855-11-01', '1855-12-01',\n",
       "               '1856-01-01', '1856-02-01',\n",
       "               ...\n",
       "               '2012-11-01', '2012-12-01', '2013-01-01', '2013-02-01',\n",
       "               '2013-03-01', '2013-04-01', '2013-05-01', '2013-06-01',\n",
       "               '2013-07-01', '2013-08-01'],\n",
       "              dtype='datetime64[ns]', name='Date', length=620027, freq=None)"
      ]
     },
     "execution_count": 9,
     "metadata": {},
     "output_type": "execute_result"
    }
   ],
   "source": [
    "df['Date']= pd.to_datetime(df['Date'])\n",
    "df.set_index('Date', inplace=True)\n",
    "df.index"
   ]
  },
  {
   "cell_type": "code",
   "execution_count": 10,
   "metadata": {},
   "outputs": [
    {
     "data": {
      "text/html": [
       "<div>\n",
       "<style scoped>\n",
       "    .dataframe tbody tr th:only-of-type {\n",
       "        vertical-align: middle;\n",
       "    }\n",
       "\n",
       "    .dataframe tbody tr th {\n",
       "        vertical-align: top;\n",
       "    }\n",
       "\n",
       "    .dataframe thead th {\n",
       "        text-align: right;\n",
       "    }\n",
       "</style>\n",
       "<table border=\"1\" class=\"dataframe\">\n",
       "  <thead>\n",
       "    <tr style=\"text-align: right;\">\n",
       "      <th></th>\n",
       "      <th>avg_temp</th>\n",
       "      <th>confidence_interval_temp</th>\n",
       "    </tr>\n",
       "  </thead>\n",
       "  <tbody>\n",
       "    <tr>\n",
       "      <th>count</th>\n",
       "      <td>620027.000000</td>\n",
       "      <td>620027.000000</td>\n",
       "    </tr>\n",
       "    <tr>\n",
       "      <th>mean</th>\n",
       "      <td>8.993111</td>\n",
       "      <td>1.287647</td>\n",
       "    </tr>\n",
       "    <tr>\n",
       "      <th>std</th>\n",
       "      <td>13.772150</td>\n",
       "      <td>1.360392</td>\n",
       "    </tr>\n",
       "    <tr>\n",
       "      <th>min</th>\n",
       "      <td>-45.389000</td>\n",
       "      <td>0.036000</td>\n",
       "    </tr>\n",
       "    <tr>\n",
       "      <th>25%</th>\n",
       "      <td>-0.693000</td>\n",
       "      <td>0.316000</td>\n",
       "    </tr>\n",
       "    <tr>\n",
       "      <th>50%</th>\n",
       "      <td>11.199000</td>\n",
       "      <td>0.656000</td>\n",
       "    </tr>\n",
       "    <tr>\n",
       "      <th>75%</th>\n",
       "      <td>19.899000</td>\n",
       "      <td>1.850000</td>\n",
       "    </tr>\n",
       "    <tr>\n",
       "      <th>max</th>\n",
       "      <td>36.339000</td>\n",
       "      <td>12.646000</td>\n",
       "    </tr>\n",
       "  </tbody>\n",
       "</table>\n",
       "</div>"
      ],
      "text/plain": [
       "            avg_temp  confidence_interval_temp\n",
       "count  620027.000000             620027.000000\n",
       "mean        8.993111                  1.287647\n",
       "std        13.772150                  1.360392\n",
       "min       -45.389000                  0.036000\n",
       "25%        -0.693000                  0.316000\n",
       "50%        11.199000                  0.656000\n",
       "75%        19.899000                  1.850000\n",
       "max        36.339000                 12.646000"
      ]
     },
     "execution_count": 10,
     "metadata": {},
     "output_type": "execute_result"
    }
   ],
   "source": [
    "df.describe()\n"
   ]
  },
  {
   "cell_type": "code",
   "execution_count": 11,
   "metadata": {},
   "outputs": [
    {
     "data": {
      "text/html": [
       "<div>\n",
       "<style scoped>\n",
       "    .dataframe tbody tr th:only-of-type {\n",
       "        vertical-align: middle;\n",
       "    }\n",
       "\n",
       "    .dataframe tbody tr th {\n",
       "        vertical-align: top;\n",
       "    }\n",
       "\n",
       "    .dataframe thead th {\n",
       "        text-align: right;\n",
       "    }\n",
       "</style>\n",
       "<table border=\"1\" class=\"dataframe\">\n",
       "  <thead>\n",
       "    <tr style=\"text-align: right;\">\n",
       "      <th></th>\n",
       "      <th>avg_temp</th>\n",
       "      <th>confidence_interval_temp</th>\n",
       "      <th>State</th>\n",
       "      <th>Country</th>\n",
       "      <th>Year</th>\n",
       "    </tr>\n",
       "    <tr>\n",
       "      <th>Date</th>\n",
       "      <th></th>\n",
       "      <th></th>\n",
       "      <th></th>\n",
       "      <th></th>\n",
       "      <th></th>\n",
       "    </tr>\n",
       "  </thead>\n",
       "  <tbody>\n",
       "    <tr>\n",
       "      <th>1855-05-01</th>\n",
       "      <td>25.544</td>\n",
       "      <td>1.171</td>\n",
       "      <td>Acre</td>\n",
       "      <td>Brazil</td>\n",
       "      <td>1855</td>\n",
       "    </tr>\n",
       "    <tr>\n",
       "      <th>1855-06-01</th>\n",
       "      <td>24.228</td>\n",
       "      <td>1.103</td>\n",
       "      <td>Acre</td>\n",
       "      <td>Brazil</td>\n",
       "      <td>1855</td>\n",
       "    </tr>\n",
       "    <tr>\n",
       "      <th>1855-07-01</th>\n",
       "      <td>24.371</td>\n",
       "      <td>1.044</td>\n",
       "      <td>Acre</td>\n",
       "      <td>Brazil</td>\n",
       "      <td>1855</td>\n",
       "    </tr>\n",
       "    <tr>\n",
       "      <th>1855-08-01</th>\n",
       "      <td>25.427</td>\n",
       "      <td>1.073</td>\n",
       "      <td>Acre</td>\n",
       "      <td>Brazil</td>\n",
       "      <td>1855</td>\n",
       "    </tr>\n",
       "    <tr>\n",
       "      <th>1855-09-01</th>\n",
       "      <td>25.675</td>\n",
       "      <td>1.014</td>\n",
       "      <td>Acre</td>\n",
       "      <td>Brazil</td>\n",
       "      <td>1855</td>\n",
       "    </tr>\n",
       "  </tbody>\n",
       "</table>\n",
       "</div>"
      ],
      "text/plain": [
       "            avg_temp  confidence_interval_temp State Country  Year\n",
       "Date                                                              \n",
       "1855-05-01    25.544                     1.171  Acre  Brazil  1855\n",
       "1855-06-01    24.228                     1.103  Acre  Brazil  1855\n",
       "1855-07-01    24.371                     1.044  Acre  Brazil  1855\n",
       "1855-08-01    25.427                     1.073  Acre  Brazil  1855\n",
       "1855-09-01    25.675                     1.014  Acre  Brazil  1855"
      ]
     },
     "execution_count": 11,
     "metadata": {},
     "output_type": "execute_result"
    }
   ],
   "source": [
    "df['Year']= df.index.year\n",
    "df.head()"
   ]
  },
  {
   "cell_type": "code",
   "execution_count": 12,
   "metadata": {},
   "outputs": [
    {
     "data": {
      "text/html": [
       "<div>\n",
       "<style scoped>\n",
       "    .dataframe tbody tr th:only-of-type {\n",
       "        vertical-align: middle;\n",
       "    }\n",
       "\n",
       "    .dataframe tbody tr th {\n",
       "        vertical-align: top;\n",
       "    }\n",
       "\n",
       "    .dataframe thead th {\n",
       "        text-align: right;\n",
       "    }\n",
       "</style>\n",
       "<table border=\"1\" class=\"dataframe\">\n",
       "  <thead>\n",
       "    <tr style=\"text-align: right;\">\n",
       "      <th></th>\n",
       "      <th>avg_temp</th>\n",
       "      <th>confidence_interval_temp</th>\n",
       "      <th>Year</th>\n",
       "    </tr>\n",
       "  </thead>\n",
       "  <tbody>\n",
       "    <tr>\n",
       "      <th>count</th>\n",
       "      <td>620027.000000</td>\n",
       "      <td>620027.000000</td>\n",
       "      <td>620027.000000</td>\n",
       "    </tr>\n",
       "    <tr>\n",
       "      <th>mean</th>\n",
       "      <td>8.993111</td>\n",
       "      <td>1.287647</td>\n",
       "      <td>1902.331598</td>\n",
       "    </tr>\n",
       "    <tr>\n",
       "      <th>std</th>\n",
       "      <td>13.772150</td>\n",
       "      <td>1.360392</td>\n",
       "      <td>67.831393</td>\n",
       "    </tr>\n",
       "    <tr>\n",
       "      <th>min</th>\n",
       "      <td>-45.389000</td>\n",
       "      <td>0.036000</td>\n",
       "      <td>1743.000000</td>\n",
       "    </tr>\n",
       "    <tr>\n",
       "      <th>25%</th>\n",
       "      <td>-0.693000</td>\n",
       "      <td>0.316000</td>\n",
       "      <td>1851.000000</td>\n",
       "    </tr>\n",
       "    <tr>\n",
       "      <th>50%</th>\n",
       "      <td>11.199000</td>\n",
       "      <td>0.656000</td>\n",
       "      <td>1906.000000</td>\n",
       "    </tr>\n",
       "    <tr>\n",
       "      <th>75%</th>\n",
       "      <td>19.899000</td>\n",
       "      <td>1.850000</td>\n",
       "      <td>1960.000000</td>\n",
       "    </tr>\n",
       "    <tr>\n",
       "      <th>max</th>\n",
       "      <td>36.339000</td>\n",
       "      <td>12.646000</td>\n",
       "      <td>2013.000000</td>\n",
       "    </tr>\n",
       "  </tbody>\n",
       "</table>\n",
       "</div>"
      ],
      "text/plain": [
       "            avg_temp  confidence_interval_temp           Year\n",
       "count  620027.000000             620027.000000  620027.000000\n",
       "mean        8.993111                  1.287647    1902.331598\n",
       "std        13.772150                  1.360392      67.831393\n",
       "min       -45.389000                  0.036000    1743.000000\n",
       "25%        -0.693000                  0.316000    1851.000000\n",
       "50%        11.199000                  0.656000    1906.000000\n",
       "75%        19.899000                  1.850000    1960.000000\n",
       "max        36.339000                 12.646000    2013.000000"
      ]
     },
     "execution_count": 12,
     "metadata": {},
     "output_type": "execute_result"
    }
   ],
   "source": [
    "df.describe()"
   ]
  },
  {
   "cell_type": "code",
   "execution_count": 13,
   "metadata": {},
   "outputs": [
    {
     "data": {
      "text/html": [
       "<div>\n",
       "<style scoped>\n",
       "    .dataframe tbody tr th:only-of-type {\n",
       "        vertical-align: middle;\n",
       "    }\n",
       "\n",
       "    .dataframe tbody tr th {\n",
       "        vertical-align: top;\n",
       "    }\n",
       "\n",
       "    .dataframe thead th {\n",
       "        text-align: right;\n",
       "    }\n",
       "</style>\n",
       "<table border=\"1\" class=\"dataframe\">\n",
       "  <thead>\n",
       "    <tr style=\"text-align: right;\">\n",
       "      <th></th>\n",
       "      <th>avg_temp</th>\n",
       "      <th>confidence_interval_temp</th>\n",
       "      <th>State</th>\n",
       "      <th>Country</th>\n",
       "      <th>Year</th>\n",
       "    </tr>\n",
       "    <tr>\n",
       "      <th>Date</th>\n",
       "      <th></th>\n",
       "      <th></th>\n",
       "      <th></th>\n",
       "      <th></th>\n",
       "      <th></th>\n",
       "    </tr>\n",
       "  </thead>\n",
       "  <tbody>\n",
       "    <tr>\n",
       "      <th>1980-01-01</th>\n",
       "      <td>26.652</td>\n",
       "      <td>0.190</td>\n",
       "      <td>Acre</td>\n",
       "      <td>Brazil</td>\n",
       "      <td>1980</td>\n",
       "    </tr>\n",
       "    <tr>\n",
       "      <th>1980-02-01</th>\n",
       "      <td>26.495</td>\n",
       "      <td>0.495</td>\n",
       "      <td>Acre</td>\n",
       "      <td>Brazil</td>\n",
       "      <td>1980</td>\n",
       "    </tr>\n",
       "    <tr>\n",
       "      <th>1980-03-01</th>\n",
       "      <td>26.270</td>\n",
       "      <td>0.236</td>\n",
       "      <td>Acre</td>\n",
       "      <td>Brazil</td>\n",
       "      <td>1980</td>\n",
       "    </tr>\n",
       "    <tr>\n",
       "      <th>1980-04-01</th>\n",
       "      <td>26.430</td>\n",
       "      <td>0.201</td>\n",
       "      <td>Acre</td>\n",
       "      <td>Brazil</td>\n",
       "      <td>1980</td>\n",
       "    </tr>\n",
       "    <tr>\n",
       "      <th>1980-05-01</th>\n",
       "      <td>25.802</td>\n",
       "      <td>0.882</td>\n",
       "      <td>Acre</td>\n",
       "      <td>Brazil</td>\n",
       "      <td>1980</td>\n",
       "    </tr>\n",
       "  </tbody>\n",
       "</table>\n",
       "</div>"
      ],
      "text/plain": [
       "            avg_temp  confidence_interval_temp State Country  Year\n",
       "Date                                                              \n",
       "1980-01-01    26.652                     0.190  Acre  Brazil  1980\n",
       "1980-02-01    26.495                     0.495  Acre  Brazil  1980\n",
       "1980-03-01    26.270                     0.236  Acre  Brazil  1980\n",
       "1980-04-01    26.430                     0.201  Acre  Brazil  1980\n",
       "1980-05-01    25.802                     0.882  Acre  Brazil  1980"
      ]
     },
     "execution_count": 13,
     "metadata": {},
     "output_type": "execute_result"
    }
   ],
   "source": [
    "latest_df = df.loc['1980':'2013']\n",
    "latest_df.head()"
   ]
  },
  {
   "cell_type": "code",
   "execution_count": 14,
   "metadata": {},
   "outputs": [
    {
     "data": {
      "text/html": [
       "<div>\n",
       "<style scoped>\n",
       "    .dataframe tbody tr th:only-of-type {\n",
       "        vertical-align: middle;\n",
       "    }\n",
       "\n",
       "    .dataframe tbody tr th {\n",
       "        vertical-align: top;\n",
       "    }\n",
       "\n",
       "    .dataframe thead th {\n",
       "        text-align: right;\n",
       "    }\n",
       "</style>\n",
       "<table border=\"1\" class=\"dataframe\">\n",
       "  <thead>\n",
       "    <tr style=\"text-align: right;\">\n",
       "      <th></th>\n",
       "      <th>avg_temp</th>\n",
       "    </tr>\n",
       "    <tr>\n",
       "      <th>Country</th>\n",
       "      <th></th>\n",
       "    </tr>\n",
       "  </thead>\n",
       "  <tbody>\n",
       "    <tr>\n",
       "      <th>Canada</th>\n",
       "      <td>-0.681256</td>\n",
       "    </tr>\n",
       "    <tr>\n",
       "      <th>Russia</th>\n",
       "      <td>2.432833</td>\n",
       "    </tr>\n",
       "    <tr>\n",
       "      <th>United States</th>\n",
       "      <td>11.516373</td>\n",
       "    </tr>\n",
       "    <tr>\n",
       "      <th>China</th>\n",
       "      <td>12.150210</td>\n",
       "    </tr>\n",
       "    <tr>\n",
       "      <th>Australia</th>\n",
       "      <td>18.447621</td>\n",
       "    </tr>\n",
       "    <tr>\n",
       "      <th>India</th>\n",
       "      <td>22.871669</td>\n",
       "    </tr>\n",
       "    <tr>\n",
       "      <th>Brazil</th>\n",
       "      <td>24.537580</td>\n",
       "    </tr>\n",
       "  </tbody>\n",
       "</table>\n",
       "</div>"
      ],
      "text/plain": [
       "                avg_temp\n",
       "Country                 \n",
       "Canada         -0.681256\n",
       "Russia          2.432833\n",
       "United States  11.516373\n",
       "China          12.150210\n",
       "Australia      18.447621\n",
       "India          22.871669\n",
       "Brazil         24.537580"
      ]
     },
     "execution_count": 14,
     "metadata": {},
     "output_type": "execute_result"
    }
   ],
   "source": [
    "latest_df[['Country','avg_temp']].groupby(['Country']).mean().sort_values('avg_temp')"
   ]
  },
  {
   "cell_type": "code",
   "execution_count": 20,
   "metadata": {},
   "outputs": [],
   "source": [
    "resample_df = latest_df[['avg_temp']].resample('A').mean()"
   ]
  },
  {
   "cell_type": "code",
   "execution_count": 22,
   "metadata": {},
   "outputs": [
    {
     "data": {
      "text/html": [
       "<div>\n",
       "<style scoped>\n",
       "    .dataframe tbody tr th:only-of-type {\n",
       "        vertical-align: middle;\n",
       "    }\n",
       "\n",
       "    .dataframe tbody tr th {\n",
       "        vertical-align: top;\n",
       "    }\n",
       "\n",
       "    .dataframe thead th {\n",
       "        text-align: right;\n",
       "    }\n",
       "</style>\n",
       "<table border=\"1\" class=\"dataframe\">\n",
       "  <thead>\n",
       "    <tr style=\"text-align: right;\">\n",
       "      <th></th>\n",
       "      <th>avg_temp</th>\n",
       "    </tr>\n",
       "    <tr>\n",
       "      <th>Date</th>\n",
       "      <th></th>\n",
       "    </tr>\n",
       "  </thead>\n",
       "  <tbody>\n",
       "    <tr>\n",
       "      <th>1980-12-31</th>\n",
       "      <td>9.689856</td>\n",
       "    </tr>\n",
       "    <tr>\n",
       "      <th>1981-12-31</th>\n",
       "      <td>10.366578</td>\n",
       "    </tr>\n",
       "    <tr>\n",
       "      <th>1982-12-31</th>\n",
       "      <td>9.837958</td>\n",
       "    </tr>\n",
       "    <tr>\n",
       "      <th>1983-12-31</th>\n",
       "      <td>10.259516</td>\n",
       "    </tr>\n",
       "    <tr>\n",
       "      <th>1984-12-31</th>\n",
       "      <td>9.724950</td>\n",
       "    </tr>\n",
       "  </tbody>\n",
       "</table>\n",
       "</div>"
      ],
      "text/plain": [
       "             avg_temp\n",
       "Date                 \n",
       "1980-12-31   9.689856\n",
       "1981-12-31  10.366578\n",
       "1982-12-31   9.837958\n",
       "1983-12-31  10.259516\n",
       "1984-12-31   9.724950"
      ]
     },
     "execution_count": 22,
     "metadata": {},
     "output_type": "execute_result"
    }
   ],
   "source": [
    "resample_df.head()"
   ]
  },
  {
   "cell_type": "code",
   "execution_count": 23,
   "metadata": {},
   "outputs": [
    {
     "data": {
      "text/plain": [
       "<matplotlib.legend.Legend at 0x20983126388>"
      ]
     },
     "execution_count": 23,
     "metadata": {},
     "output_type": "execute_result"
    },
    {
     "data": {
      "image/png": "[encoded data removed]",
      "text/plain": [
       "<Figure size 576x216 with 1 Axes>"
      ]
     },
     "metadata": {
      "needs_background": "light"
     },
     "output_type": "display_data"
    }
   ],
   "source": [
    "resample_df.plot(title='Temperature changes from 1980-2013', figsize=(8,3))\n",
    "plt.ylabel('Temperature', fontsize=12)\n",
    "plt.xlabel('year',fontsize=12)\n",
    "plt.legend()"
   ]
  },
  {
   "cell_type": "code",
   "execution_count": 50,
   "metadata": {},
   "outputs": [
    {
     "name": "stdout",
     "output_type": "stream",
     "text": [
      "Dickey fuller Test results:\n",
      "Test Statistic                 -0.728209\n",
      "p-value                         0.839307\n",
      "Lags Used                       2.000000\n",
      "Number of Observations Used    31.000000\n",
      "Critical Value (1%)            -3.661429\n",
      "Critical Value (5%)            -2.960525\n",
      "Critical Value (10%)           -2.619319\n",
      "dtype: float64\n"
     ]
    }
   ],
   "source": [
    "from statsmodels.tsa.stattools import adfuller\n",
    "print('Dickey fuller Test results:')\n",
    "test_df=adfuller(resample_df.iloc[:,0].values,autolag='AIC')\n",
    "df_output = pd.Series(test_df[0:4],index=['Test Statistic','p-value','Lags Used','Number of Observations Used'])\n",
    "for key, value in test_df[4].items():\n",
    "    df_output['Critical Value (%s)'%key]= value\n",
    "print(df_output)"
   ]
  },
  {
   "cell_type": "code",
   "execution_count": 59,
   "metadata": {},
   "outputs": [],
   "source": [
    "decomp = seasonal_decompose(resample_df)\n",
    "\n",
    "\n",
    "trend = decomp.trend\n",
    "seasonal = decomp.seasonal\n",
    "residual = decomp.resid "
   ]
  },
  {
   "cell_type": "code",
   "execution_count": 60,
   "metadata": {},
   "outputs": [
    {
     "data": {
      "image/png": "[encoded data removed]",
      "text/plain": [
       "<Figure size 432x288 with 2 Axes>"
      ]
     },
     "metadata": {
      "needs_background": "light"
     },
     "output_type": "display_data"
    }
   ],
   "source": [
    "plt.subplot(411)\n",
    "plt.plot(resample_df)\n",
    "plt.xlabel('Original')\n",
    "plt.Figure(figsize=(6,5))\n",
    "\n",
    "plt.subplot(412)\n",
    "plt.plot(trend)\n",
    "plt.xlabel('Trend')\n",
    "plt.Figure(figsize=(6,5))\n",
    "\n",
    "\n",
    "plt.tight_layout()"
   ]
  },
  {
   "cell_type": "code",
   "execution_count": 65,
   "metadata": {},
   "outputs": [
    {
     "data": {
      "image/png": "[encoded data removed]",
      "text/plain": [
       "<Figure size 864x360 with 2 Axes>"
      ]
     },
     "metadata": {
      "needs_background": "light"
     },
     "output_type": "display_data"
    }
   ],
   "source": [
    "rol_mean = resample_df.rolling(window=3, center=True).mean()\n",
    "\n",
    "ewm = resample_df.ewm(span=3).mean()\n",
    "\n",
    "rol_std = resample_df.rolling(window=3, center=True).std()\n",
    "\n",
    "fig, (ax1,ax2)= plt.subplots(1,2, figsize=(12,5))\n",
    "\n",
    "ax1.plot(resample_df, label='Original')\n",
    "ax1.plot(rol_mean,label='Rolling Mean')\n",
    "ax1.plot(ewm, label= 'Exponentially Weighted Mean')\n",
    "ax1.set_title('Temperature changes from 1980-2013', fontsize =14)\n",
    "ax1.set_ylabel('Temperature', fontsize=12)\n",
    "ax1.set_xlabel('Year', fontsize=12)\n",
    "ax1.legend()\n",
    "\n",
    "ax2.plot(rol_std,label= 'Rolling STD')\n",
    "ax2.set_title('Temperature Changes from 1980-2013', fontsize=14)\n",
    "ax2.set_ylabel('Temperature', fontsize=12)\n",
    "ax2.set_xlabel('Year', fontsize=12)\n",
    "ax2.legend()\n",
    "\n",
    "plt.tight_layout()\n",
    "plt.show()"
   ]
  },
  {
   "cell_type": "code",
   "execution_count": 67,
   "metadata": {},
   "outputs": [
    {
     "name": "stdout",
     "output_type": "stream",
     "text": [
      "Dickey Fuller Test for rolling mean\n",
      "Test Statistic                 -0.728209\n",
      "p-value                         0.839307\n",
      "Lags Used                       2.000000\n",
      "Number of Observations Used    31.000000\n",
      "Critical Value (1%)            -3.661429\n",
      "Critical Value (5%)            -2.960525\n",
      "Critical Value (10%)           -2.619319\n",
      "dtype: float64\n",
      "\n",
      "Dickney-Fuller Test for the Exponentially Weighted Mean:\n",
      "Test Statistic                 -0.338693\n",
      "p-value                         0.919843\n",
      "Lags used                       2.000000\n",
      "Number of Observations Used    31.000000\n",
      "Critical Value (1%)            -3.661429\n",
      "Critical Value (5%)            -2.960525\n",
      "Critical Value (10%)           -2.619319\n",
      "dtype: float64\n"
     ]
    }
   ],
   "source": [
    "rol_mean.dropna(inplace =True)\n",
    "ewm.dropna (inplace=True)\n",
    "\n",
    "print('Dickey Fuller Test for rolling mean')\n",
    "df_test=adfuller(rol_mean.iloc[:,0].values,autolag='AIC')\n",
    "df_output = pd.Series(test_df[0:4],index=['Test Statistic','p-value','Lags Used','Number of Observations Used'])\n",
    "for key, value in test_df[4].items():\n",
    "    df_output['Critical Value (%s)'%key]= value\n",
    "print(df_output)\n",
    "\n",
    "print('')\n",
    "print('Dickney-Fuller Test for the Exponentially Weighted Mean:')\n",
    "df_test= adfuller(ewm.iloc[:,0].values, autolag='AIC')\n",
    "df_output = pd.Series(df_test[0:4], index=['Test Statistic','p-value','Lags used','Number of Observations Used'])\n",
    "for key,value in df_test[4].items():\n",
    "    df_output['Critical Value (%s)'%key]= value\n",
    "print(df_output)"
   ]
  },
  {
   "cell_type": "code",
   "execution_count": 68,
   "metadata": {},
   "outputs": [
    {
     "data": {
      "text/html": [
       "<div>\n",
       "<style scoped>\n",
       "    .dataframe tbody tr th:only-of-type {\n",
       "        vertical-align: middle;\n",
       "    }\n",
       "\n",
       "    .dataframe tbody tr th {\n",
       "        vertical-align: top;\n",
       "    }\n",
       "\n",
       "    .dataframe thead th {\n",
       "        text-align: right;\n",
       "    }\n",
       "</style>\n",
       "<table border=\"1\" class=\"dataframe\">\n",
       "  <thead>\n",
       "    <tr style=\"text-align: right;\">\n",
       "      <th></th>\n",
       "      <th>avg_temp</th>\n",
       "    </tr>\n",
       "    <tr>\n",
       "      <th>Date</th>\n",
       "      <th></th>\n",
       "    </tr>\n",
       "  </thead>\n",
       "  <tbody>\n",
       "    <tr>\n",
       "      <th>1981-12-31</th>\n",
       "      <td>0.401781</td>\n",
       "    </tr>\n",
       "    <tr>\n",
       "      <th>1982-12-31</th>\n",
       "      <td>-0.316726</td>\n",
       "    </tr>\n",
       "    <tr>\n",
       "      <th>1983-12-31</th>\n",
       "      <td>0.318708</td>\n",
       "    </tr>\n",
       "    <tr>\n",
       "      <th>1984-12-31</th>\n",
       "      <td>-0.091684</td>\n",
       "    </tr>\n",
       "    <tr>\n",
       "      <th>1985-12-31</th>\n",
       "      <td>-0.236199</td>\n",
       "    </tr>\n",
       "  </tbody>\n",
       "</table>\n",
       "</div>"
      ],
      "text/plain": [
       "            avg_temp\n",
       "Date                \n",
       "1981-12-31  0.401781\n",
       "1982-12-31 -0.316726\n",
       "1983-12-31  0.318708\n",
       "1984-12-31 -0.091684\n",
       "1985-12-31 -0.236199"
      ]
     },
     "execution_count": 68,
     "metadata": {},
     "output_type": "execute_result"
    }
   ],
   "source": [
    "diff_rol_mean =resample_df - rol_mean\n",
    "diff_rol_mean.dropna(inplace=True)\n",
    "diff_rol_mean.head()"
   ]
  },
  {
   "cell_type": "code",
   "execution_count": 69,
   "metadata": {},
   "outputs": [
    {
     "data": {
      "text/html": [
       "<div>\n",
       "<style scoped>\n",
       "    .dataframe tbody tr th:only-of-type {\n",
       "        vertical-align: middle;\n",
       "    }\n",
       "\n",
       "    .dataframe tbody tr th {\n",
       "        vertical-align: top;\n",
       "    }\n",
       "\n",
       "    .dataframe thead th {\n",
       "        text-align: right;\n",
       "    }\n",
       "</style>\n",
       "<table border=\"1\" class=\"dataframe\">\n",
       "  <thead>\n",
       "    <tr style=\"text-align: right;\">\n",
       "      <th></th>\n",
       "      <th>avg_temp</th>\n",
       "    </tr>\n",
       "    <tr>\n",
       "      <th>Date</th>\n",
       "      <th></th>\n",
       "    </tr>\n",
       "  </thead>\n",
       "  <tbody>\n",
       "    <tr>\n",
       "      <th>1980-12-31</th>\n",
       "      <td>0.000000</td>\n",
       "    </tr>\n",
       "    <tr>\n",
       "      <th>1981-12-31</th>\n",
       "      <td>0.225574</td>\n",
       "    </tr>\n",
       "    <tr>\n",
       "      <th>1982-12-31</th>\n",
       "      <td>-0.129877</td>\n",
       "    </tr>\n",
       "    <tr>\n",
       "      <th>1983-12-31</th>\n",
       "      <td>0.136118</td>\n",
       "    </tr>\n",
       "    <tr>\n",
       "      <th>1984-12-31</th>\n",
       "      <td>-0.192797</td>\n",
       "    </tr>\n",
       "  </tbody>\n",
       "</table>\n",
       "</div>"
      ],
      "text/plain": [
       "            avg_temp\n",
       "Date                \n",
       "1980-12-31  0.000000\n",
       "1981-12-31  0.225574\n",
       "1982-12-31 -0.129877\n",
       "1983-12-31  0.136118\n",
       "1984-12-31 -0.192797"
      ]
     },
     "execution_count": 69,
     "metadata": {},
     "output_type": "execute_result"
    }
   ],
   "source": [
    "diff_ewm =resample_df - ewm\n",
    "diff_ewm.dropna(inplace=True)\n",
    "diff_ewm.head()"
   ]
  },
  {
   "cell_type": "code",
   "execution_count": 84,
   "metadata": {},
   "outputs": [
    {
     "data": {
      "image/png": "[encoded data removed]",
      "text/plain": [
       "<Figure size 720x288 with 2 Axes>"
      ]
     },
     "metadata": {
      "needs_background": "light"
     },
     "output_type": "display_data"
    }
   ],
   "source": [
    "df_rol_mean_diff = diff_rol_mean.rolling(window=3, center=True).mean()\n",
    "\n",
    "df_ewm_diff = diff_ewm.ewm(span=2).mean()\n",
    "\n",
    "rol_std = resample_df.rolling(window=3, center=True).std()\n",
    "\n",
    "fig, (ax1,ax2)= plt.subplots(1,2, figsize=(10,4))\n",
    "\n",
    "ax1.plot(diff_rol_mean, label='Original')\n",
    "ax1.plot(df_rol_mean_diff,label='Rolling Mean')\n",
    "ax1.set_title('Temperature changes from 1980-2013', fontsize =14)\n",
    "ax1.set_ylabel('Temperature', fontsize=12)\n",
    "ax1.set_xlabel('Year', fontsize=12)\n",
    "ax1.legend()\n",
    "\n",
    "ax2.plot(diff_ewm,label= 'Original')\n",
    "ax2.plot(df_ewm_diff,label='Exponentially Weighted Mean')\n",
    "ax2.set_title('Temperature Changes from 1980-2013', fontsize=14)\n",
    "ax2.set_ylabel('Temperature', fontsize=12)\n",
    "ax2.set_xlabel('Year', fontsize=12)\n",
    "ax2.legend()\n",
    "\n",
    "plt.tight_layout()\n",
    "plt.show()"
   ]
  },
  {
   "cell_type": "code",
   "execution_count": 74,
   "metadata": {},
   "outputs": [
    {
     "name": "stdout",
     "output_type": "stream",
     "text": [
      "Dickey fuller Test results for the difference between Original and Rolling mean:\n",
      "Test Statistic                -7.007710e+00\n",
      "p-value                        7.051586e-10\n",
      "#Lags Used                     1.000000e+00\n",
      "Number of Observations Used    3.000000e+01\n",
      "Critical Value (1%)           -3.669920e+00\n",
      "Critical Value (5%)           -2.964071e+00\n",
      "Critical Value (10%)          -2.621171e+00\n",
      "dtype: float64\n",
      "\n",
      "Dickey-fuller test for the difference between the original and Exponentially Weighted mean\n",
      "Test Statistic                 -4.297446\n",
      "p-value                         0.000449\n",
      "#Lags Used                      1.000000\n",
      "Number of Observations Used    32.000000\n",
      "Critical Value (1%)            -3.653520\n",
      "Critical Value (5%)            -2.957219\n",
      "Critical Value (10%)           -2.617588\n",
      "dtype: float64\n"
     ]
    }
   ],
   "source": [
    "print('Dickey fuller Test results for the difference between Original and Rolling mean:')\n",
    "dftest=adfuller(diff_rol_mean.iloc[:,0].values,autolag='AIC')\n",
    "dfoutput = pd.Series(dftest[0:4],index=['Test Statistic','p-value','#Lags Used','Number of Observations Used'])\n",
    "for key, value in dftest[4].items():\n",
    "    dfoutput['Critical Value (%s)'%key]= value\n",
    "print(dfoutput)\n",
    "print('')\n",
    "print('Dickey-fuller test for the difference between the original and Exponentially Weighted mean')\n",
    "dftest=adfuller(diff_ewm.iloc[:,0].values,autolag='AIC')\n",
    "dfoutput = pd.Series(dftest[0:4],index=['Test Statistic','p-value','#Lags Used','Number of Observations Used'])\n",
    "for key, value in dftest[4].items():\n",
    "    dfoutput['Critical Value (%s)'%key]= value\n",
    "print(dfoutput)"
   ]
  },
  {
   "cell_type": "code",
   "execution_count": 80,
   "metadata": {},
   "outputs": [
    {
     "data": {
      "text/plain": [
       "<function matplotlib.pyplot.show(close=None, block=None)>"
      ]
     },
     "execution_count": 80,
     "metadata": {},
     "output_type": "execute_result"
    },
    {
     "data": {
      "image/png": "[encoded data removed]",
      "text/plain": [
       "<Figure size 720x360 with 2 Axes>"
      ]
     },
     "metadata": {
      "needs_background": "light"
     },
     "output_type": "display_data"
    }
   ],
   "source": [
    "from statsmodels.graphics.tsaplots import plot_acf\n",
    "from statsmodels.graphics.tsaplots import plot_pacf\n",
    "from matplotlib import pyplot\n",
    "\n",
    "\n",
    "pyplot.figure(figsize=(10,5))\n",
    "pyplot.subplot(211)\n",
    "plot_acf(resample_df,ax=pyplot.gca())\n",
    "pyplot.subplot(212)\n",
    "plot_pacf(resample_df,ax=pyplot.gca())\n",
    "pyplot.show\n"
   ]
  },
  {
   "cell_type": "code",
   "execution_count": null,
   "metadata": {},
   "outputs": [],
   "source": [
    " "
   ]
  }
 ],
 "metadata": {
  "interpreter": {
   "hash": "90a72e0824a2e111fc487362988d38364f3536bb38bbb85c94767eaa2e783c96"
  },
  "kernelspec": {
   "display_name": "Python 3.7.9 64-bit",
   "language": "python",
   "name": "python3"
  },
  "language_info": {
   "codemirror_mode": {
    "name": "ipython",
    "version": 3
   },
   "file_extension": ".py",
   "mimetype": "text/x-python",
   "name": "python",
   "nbconvert_exporter": "python",
   "pygments_lexer": "ipython3",
   "version": "3.7.9"
  },
  "orig_nbformat": 4
 },
 "nbformat": 4,
 "nbformat_minor": 2
}
